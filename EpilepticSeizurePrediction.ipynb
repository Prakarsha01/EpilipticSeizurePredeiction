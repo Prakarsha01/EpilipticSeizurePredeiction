{
  "cells": [
    {
      "cell_type": "markdown",
      "metadata": {
        "id": "view-in-github",
        "colab_type": "text"
      },
      "source": [
        "<a href=\"https://colab.research.google.com/github/Prakarsha01/EpilipticSeizurePredeiction/blob/main/EpilepticSeizurePrediction.ipynb\" target=\"_parent\"><img src=\"https://colab.research.google.com/assets/colab-badge.svg\" alt=\"Open In Colab\"/></a>"
      ]
    },
    {
      "cell_type": "markdown",
      "source": [
        "#**Imports and installations**"
      ],
      "metadata": {
        "id": "mDHa8p-yGs4D"
      },
      "id": "mDHa8p-yGs4D"
    },
    {
      "cell_type": "code",
      "execution_count": null,
      "id": "6762db68",
      "metadata": {
        "colab": {
          "base_uri": "https://localhost:8080/"
        },
        "id": "6762db68",
        "outputId": "34ba278a-4fb4-4f37-e017-8546dc3b2650"
      },
      "outputs": [
        {
          "output_type": "stream",
          "name": "stdout",
          "text": [
            "Looking in indexes: https://pypi.org/simple, https://us-python.pkg.dev/colab-wheels/public/simple/\n",
            "Requirement already satisfied: imbalanced-learn in /usr/local/lib/python3.7/dist-packages (0.9.0)\n",
            "Collecting imbalanced-learn\n",
            "  Using cached imbalanced_learn-0.9.1-py3-none-any.whl (199 kB)\n",
            "Requirement already satisfied: threadpoolctl>=2.0.0 in /usr/local/lib/python3.7/dist-packages (from imbalanced-learn) (3.1.0)\n",
            "Requirement already satisfied: joblib>=1.0.0 in /usr/local/lib/python3.7/dist-packages (from imbalanced-learn) (1.2.0)\n",
            "Requirement already satisfied: numpy>=1.14.6 in /usr/local/lib/python3.7/dist-packages (from imbalanced-learn) (1.21.6)\n",
            "Requirement already satisfied: scipy>=1.1.0 in /usr/local/lib/python3.7/dist-packages (from imbalanced-learn) (1.7.3)\n",
            "Requirement already satisfied: scikit-learn>=1.0.1 in /usr/local/lib/python3.7/dist-packages (from imbalanced-learn) (1.0.2)\n"
          ]
        }
      ],
      "source": [
        "pip install -U imbalanced-learn"
      ]
    },
    {
      "cell_type": "code",
      "execution_count": null,
      "id": "746ac011",
      "metadata": {
        "id": "746ac011"
      },
      "outputs": [],
      "source": [
        "import numpy as np\n",
        "import pandas as pd\n",
        "import seaborn as sns\n",
        "import matplotlib.pyplot as plt\n",
        "from collections import Counter\n",
        "\n",
        "from imblearn.over_sampling import SMOTE as sm\n",
        "from sklearn.linear_model import LogisticRegression\n",
        "from sklearn.tree import DecisionTreeClassifier\n",
        "from sklearn.neighbors import KNeighborsClassifier\n",
        "from sklearn.metrics import roc_auc_score, roc_curve, auc, confusion_matrix\n",
        "from sklearn.model_selection import train_test_split\n",
        "from sklearn.ensemble import AdaBoostClassifier, BaggingClassifier, RandomForestClassifier"
      ]
    },
    {
      "cell_type": "markdown",
      "id": "d657f66b",
      "metadata": {
        "id": "d657f66b"
      },
      "source": [
        "#**Data Preprocessing**"
      ]
    },
    {
      "cell_type": "code",
      "execution_count": null,
      "id": "53a75d45",
      "metadata": {
        "colab": {
          "base_uri": "https://localhost:8080/",
          "height": 488
        },
        "id": "53a75d45",
        "outputId": "fafd08c9-9c70-467c-bd49-7c871a59e72a"
      },
      "outputs": [
        {
          "output_type": "execute_result",
          "data": {
            "text/plain": [
              "         column_a   x1   x2   x3   x4   x5   x6   x7   x8   x9  ...  x170  \\\n",
              "0      X21.V1.791  135  190  229  223  192  125   55   -9  -33  ...   -17   \n",
              "1      X15.V1.924  386  382  356  331  320  315  307  272  244  ...   164   \n",
              "2         X8.V1.1  -32  -39  -47  -37  -32  -36  -57  -73  -85  ...    57   \n",
              "3       X16.V1.60 -105 -101  -96  -92  -89  -95 -102 -100  -87  ...   -82   \n",
              "4       X20.V1.54   -9  -65  -98 -102  -78  -48  -16    0  -21  ...     4   \n",
              "...           ...  ...  ...  ...  ...  ...  ...  ...  ...  ...  ...   ...   \n",
              "11495  X22.V1.114  -22  -22  -23  -26  -36  -42  -45  -42  -45  ...    15   \n",
              "11496  X19.V1.354  -47  -11   28   77  141  211  246  240  193  ...   -65   \n",
              "11497    X8.V1.28   14    6  -13  -16   10   26   27   -9    4  ...   -65   \n",
              "11498  X10.V1.932  -40  -25   -9  -12   -2   12    7   19   22  ...   121   \n",
              "11499  X16.V1.210   29   41   57   72   74   62   54   43   31  ...   -59   \n",
              "\n",
              "       x171  x172  x173  x174  x175  x176  x177  x178  y  \n",
              "0       -15   -31   -77  -103  -127  -116   -83   -51  4  \n",
              "1       150   146   152   157   156   154   143   129  1  \n",
              "2        64    48    19   -12   -30   -35   -35   -36  5  \n",
              "3       -81   -80   -77   -85   -77   -72   -69   -65  5  \n",
              "4         2   -12   -32   -41   -65   -83   -89   -73  5  \n",
              "...     ...   ...   ...   ...   ...   ...   ...   ... ..  \n",
              "11495    16    12     5    -1   -18   -37   -47   -48  2  \n",
              "11496   -33    -7    14    27    48    77   117   170  1  \n",
              "11497   -48   -61   -62   -67   -30    -2    -1    -8  5  \n",
              "11498   135   148   143   116    86    68    59    55  3  \n",
              "11499   -25    -4     2     5     4    -2     2    20  4  \n",
              "\n",
              "[11500 rows x 180 columns]"
            ],
            "text/html": [
              "\n",
              "  <div id=\"df-a93e28be-df51-4c26-8b5e-bd14afde96dd\">\n",
              "    <div class=\"colab-df-container\">\n",
              "      <div>\n",
              "<style scoped>\n",
              "    .dataframe tbody tr th:only-of-type {\n",
              "        vertical-align: middle;\n",
              "    }\n",
              "\n",
              "    .dataframe tbody tr th {\n",
              "        vertical-align: top;\n",
              "    }\n",
              "\n",
              "    .dataframe thead th {\n",
              "        text-align: right;\n",
              "    }\n",
              "</style>\n",
              "<table border=\"1\" class=\"dataframe\">\n",
              "  <thead>\n",
              "    <tr style=\"text-align: right;\">\n",
              "      <th></th>\n",
              "      <th>column_a</th>\n",
              "      <th>x1</th>\n",
              "      <th>x2</th>\n",
              "      <th>x3</th>\n",
              "      <th>x4</th>\n",
              "      <th>x5</th>\n",
              "      <th>x6</th>\n",
              "      <th>x7</th>\n",
              "      <th>x8</th>\n",
              "      <th>x9</th>\n",
              "      <th>...</th>\n",
              "      <th>x170</th>\n",
              "      <th>x171</th>\n",
              "      <th>x172</th>\n",
              "      <th>x173</th>\n",
              "      <th>x174</th>\n",
              "      <th>x175</th>\n",
              "      <th>x176</th>\n",
              "      <th>x177</th>\n",
              "      <th>x178</th>\n",
              "      <th>y</th>\n",
              "    </tr>\n",
              "  </thead>\n",
              "  <tbody>\n",
              "    <tr>\n",
              "      <th>0</th>\n",
              "      <td>X21.V1.791</td>\n",
              "      <td>135</td>\n",
              "      <td>190</td>\n",
              "      <td>229</td>\n",
              "      <td>223</td>\n",
              "      <td>192</td>\n",
              "      <td>125</td>\n",
              "      <td>55</td>\n",
              "      <td>-9</td>\n",
              "      <td>-33</td>\n",
              "      <td>...</td>\n",
              "      <td>-17</td>\n",
              "      <td>-15</td>\n",
              "      <td>-31</td>\n",
              "      <td>-77</td>\n",
              "      <td>-103</td>\n",
              "      <td>-127</td>\n",
              "      <td>-116</td>\n",
              "      <td>-83</td>\n",
              "      <td>-51</td>\n",
              "      <td>4</td>\n",
              "    </tr>\n",
              "    <tr>\n",
              "      <th>1</th>\n",
              "      <td>X15.V1.924</td>\n",
              "      <td>386</td>\n",
              "      <td>382</td>\n",
              "      <td>356</td>\n",
              "      <td>331</td>\n",
              "      <td>320</td>\n",
              "      <td>315</td>\n",
              "      <td>307</td>\n",
              "      <td>272</td>\n",
              "      <td>244</td>\n",
              "      <td>...</td>\n",
              "      <td>164</td>\n",
              "      <td>150</td>\n",
              "      <td>146</td>\n",
              "      <td>152</td>\n",
              "      <td>157</td>\n",
              "      <td>156</td>\n",
              "      <td>154</td>\n",
              "      <td>143</td>\n",
              "      <td>129</td>\n",
              "      <td>1</td>\n",
              "    </tr>\n",
              "    <tr>\n",
              "      <th>2</th>\n",
              "      <td>X8.V1.1</td>\n",
              "      <td>-32</td>\n",
              "      <td>-39</td>\n",
              "      <td>-47</td>\n",
              "      <td>-37</td>\n",
              "      <td>-32</td>\n",
              "      <td>-36</td>\n",
              "      <td>-57</td>\n",
              "      <td>-73</td>\n",
              "      <td>-85</td>\n",
              "      <td>...</td>\n",
              "      <td>57</td>\n",
              "      <td>64</td>\n",
              "      <td>48</td>\n",
              "      <td>19</td>\n",
              "      <td>-12</td>\n",
              "      <td>-30</td>\n",
              "      <td>-35</td>\n",
              "      <td>-35</td>\n",
              "      <td>-36</td>\n",
              "      <td>5</td>\n",
              "    </tr>\n",
              "    <tr>\n",
              "      <th>3</th>\n",
              "      <td>X16.V1.60</td>\n",
              "      <td>-105</td>\n",
              "      <td>-101</td>\n",
              "      <td>-96</td>\n",
              "      <td>-92</td>\n",
              "      <td>-89</td>\n",
              "      <td>-95</td>\n",
              "      <td>-102</td>\n",
              "      <td>-100</td>\n",
              "      <td>-87</td>\n",
              "      <td>...</td>\n",
              "      <td>-82</td>\n",
              "      <td>-81</td>\n",
              "      <td>-80</td>\n",
              "      <td>-77</td>\n",
              "      <td>-85</td>\n",
              "      <td>-77</td>\n",
              "      <td>-72</td>\n",
              "      <td>-69</td>\n",
              "      <td>-65</td>\n",
              "      <td>5</td>\n",
              "    </tr>\n",
              "    <tr>\n",
              "      <th>4</th>\n",
              "      <td>X20.V1.54</td>\n",
              "      <td>-9</td>\n",
              "      <td>-65</td>\n",
              "      <td>-98</td>\n",
              "      <td>-102</td>\n",
              "      <td>-78</td>\n",
              "      <td>-48</td>\n",
              "      <td>-16</td>\n",
              "      <td>0</td>\n",
              "      <td>-21</td>\n",
              "      <td>...</td>\n",
              "      <td>4</td>\n",
              "      <td>2</td>\n",
              "      <td>-12</td>\n",
              "      <td>-32</td>\n",
              "      <td>-41</td>\n",
              "      <td>-65</td>\n",
              "      <td>-83</td>\n",
              "      <td>-89</td>\n",
              "      <td>-73</td>\n",
              "      <td>5</td>\n",
              "    </tr>\n",
              "    <tr>\n",
              "      <th>...</th>\n",
              "      <td>...</td>\n",
              "      <td>...</td>\n",
              "      <td>...</td>\n",
              "      <td>...</td>\n",
              "      <td>...</td>\n",
              "      <td>...</td>\n",
              "      <td>...</td>\n",
              "      <td>...</td>\n",
              "      <td>...</td>\n",
              "      <td>...</td>\n",
              "      <td>...</td>\n",
              "      <td>...</td>\n",
              "      <td>...</td>\n",
              "      <td>...</td>\n",
              "      <td>...</td>\n",
              "      <td>...</td>\n",
              "      <td>...</td>\n",
              "      <td>...</td>\n",
              "      <td>...</td>\n",
              "      <td>...</td>\n",
              "      <td>...</td>\n",
              "    </tr>\n",
              "    <tr>\n",
              "      <th>11495</th>\n",
              "      <td>X22.V1.114</td>\n",
              "      <td>-22</td>\n",
              "      <td>-22</td>\n",
              "      <td>-23</td>\n",
              "      <td>-26</td>\n",
              "      <td>-36</td>\n",
              "      <td>-42</td>\n",
              "      <td>-45</td>\n",
              "      <td>-42</td>\n",
              "      <td>-45</td>\n",
              "      <td>...</td>\n",
              "      <td>15</td>\n",
              "      <td>16</td>\n",
              "      <td>12</td>\n",
              "      <td>5</td>\n",
              "      <td>-1</td>\n",
              "      <td>-18</td>\n",
              "      <td>-37</td>\n",
              "      <td>-47</td>\n",
              "      <td>-48</td>\n",
              "      <td>2</td>\n",
              "    </tr>\n",
              "    <tr>\n",
              "      <th>11496</th>\n",
              "      <td>X19.V1.354</td>\n",
              "      <td>-47</td>\n",
              "      <td>-11</td>\n",
              "      <td>28</td>\n",
              "      <td>77</td>\n",
              "      <td>141</td>\n",
              "      <td>211</td>\n",
              "      <td>246</td>\n",
              "      <td>240</td>\n",
              "      <td>193</td>\n",
              "      <td>...</td>\n",
              "      <td>-65</td>\n",
              "      <td>-33</td>\n",
              "      <td>-7</td>\n",
              "      <td>14</td>\n",
              "      <td>27</td>\n",
              "      <td>48</td>\n",
              "      <td>77</td>\n",
              "      <td>117</td>\n",
              "      <td>170</td>\n",
              "      <td>1</td>\n",
              "    </tr>\n",
              "    <tr>\n",
              "      <th>11497</th>\n",
              "      <td>X8.V1.28</td>\n",
              "      <td>14</td>\n",
              "      <td>6</td>\n",
              "      <td>-13</td>\n",
              "      <td>-16</td>\n",
              "      <td>10</td>\n",
              "      <td>26</td>\n",
              "      <td>27</td>\n",
              "      <td>-9</td>\n",
              "      <td>4</td>\n",
              "      <td>...</td>\n",
              "      <td>-65</td>\n",
              "      <td>-48</td>\n",
              "      <td>-61</td>\n",
              "      <td>-62</td>\n",
              "      <td>-67</td>\n",
              "      <td>-30</td>\n",
              "      <td>-2</td>\n",
              "      <td>-1</td>\n",
              "      <td>-8</td>\n",
              "      <td>5</td>\n",
              "    </tr>\n",
              "    <tr>\n",
              "      <th>11498</th>\n",
              "      <td>X10.V1.932</td>\n",
              "      <td>-40</td>\n",
              "      <td>-25</td>\n",
              "      <td>-9</td>\n",
              "      <td>-12</td>\n",
              "      <td>-2</td>\n",
              "      <td>12</td>\n",
              "      <td>7</td>\n",
              "      <td>19</td>\n",
              "      <td>22</td>\n",
              "      <td>...</td>\n",
              "      <td>121</td>\n",
              "      <td>135</td>\n",
              "      <td>148</td>\n",
              "      <td>143</td>\n",
              "      <td>116</td>\n",
              "      <td>86</td>\n",
              "      <td>68</td>\n",
              "      <td>59</td>\n",
              "      <td>55</td>\n",
              "      <td>3</td>\n",
              "    </tr>\n",
              "    <tr>\n",
              "      <th>11499</th>\n",
              "      <td>X16.V1.210</td>\n",
              "      <td>29</td>\n",
              "      <td>41</td>\n",
              "      <td>57</td>\n",
              "      <td>72</td>\n",
              "      <td>74</td>\n",
              "      <td>62</td>\n",
              "      <td>54</td>\n",
              "      <td>43</td>\n",
              "      <td>31</td>\n",
              "      <td>...</td>\n",
              "      <td>-59</td>\n",
              "      <td>-25</td>\n",
              "      <td>-4</td>\n",
              "      <td>2</td>\n",
              "      <td>5</td>\n",
              "      <td>4</td>\n",
              "      <td>-2</td>\n",
              "      <td>2</td>\n",
              "      <td>20</td>\n",
              "      <td>4</td>\n",
              "    </tr>\n",
              "  </tbody>\n",
              "</table>\n",
              "<p>11500 rows × 180 columns</p>\n",
              "</div>\n",
              "      <button class=\"colab-df-convert\" onclick=\"convertToInteractive('df-a93e28be-df51-4c26-8b5e-bd14afde96dd')\"\n",
              "              title=\"Convert this dataframe to an interactive table.\"\n",
              "              style=\"display:none;\">\n",
              "        \n",
              "  <svg xmlns=\"http://www.w3.org/2000/svg\" height=\"24px\"viewBox=\"0 0 24 24\"\n",
              "       width=\"24px\">\n",
              "    <path d=\"M0 0h24v24H0V0z\" fill=\"none\"/>\n",
              "    <path d=\"M18.56 5.44l.94 2.06.94-2.06 2.06-.94-2.06-.94-.94-2.06-.94 2.06-2.06.94zm-11 1L8.5 8.5l.94-2.06 2.06-.94-2.06-.94L8.5 2.5l-.94 2.06-2.06.94zm10 10l.94 2.06.94-2.06 2.06-.94-2.06-.94-.94-2.06-.94 2.06-2.06.94z\"/><path d=\"M17.41 7.96l-1.37-1.37c-.4-.4-.92-.59-1.43-.59-.52 0-1.04.2-1.43.59L10.3 9.45l-7.72 7.72c-.78.78-.78 2.05 0 2.83L4 21.41c.39.39.9.59 1.41.59.51 0 1.02-.2 1.41-.59l7.78-7.78 2.81-2.81c.8-.78.8-2.07 0-2.86zM5.41 20L4 18.59l7.72-7.72 1.47 1.35L5.41 20z\"/>\n",
              "  </svg>\n",
              "      </button>\n",
              "      \n",
              "  <style>\n",
              "    .colab-df-container {\n",
              "      display:flex;\n",
              "      flex-wrap:wrap;\n",
              "      gap: 12px;\n",
              "    }\n",
              "\n",
              "    .colab-df-convert {\n",
              "      background-color: #E8F0FE;\n",
              "      border: none;\n",
              "      border-radius: 50%;\n",
              "      cursor: pointer;\n",
              "      display: none;\n",
              "      fill: #1967D2;\n",
              "      height: 32px;\n",
              "      padding: 0 0 0 0;\n",
              "      width: 32px;\n",
              "    }\n",
              "\n",
              "    .colab-df-convert:hover {\n",
              "      background-color: #E2EBFA;\n",
              "      box-shadow: 0px 1px 2px rgba(60, 64, 67, 0.3), 0px 1px 3px 1px rgba(60, 64, 67, 0.15);\n",
              "      fill: #174EA6;\n",
              "    }\n",
              "\n",
              "    [theme=dark] .colab-df-convert {\n",
              "      background-color: #3B4455;\n",
              "      fill: #D2E3FC;\n",
              "    }\n",
              "\n",
              "    [theme=dark] .colab-df-convert:hover {\n",
              "      background-color: #434B5C;\n",
              "      box-shadow: 0px 1px 3px 1px rgba(0, 0, 0, 0.15);\n",
              "      filter: drop-shadow(0px 1px 2px rgba(0, 0, 0, 0.3));\n",
              "      fill: #FFFFFF;\n",
              "    }\n",
              "  </style>\n",
              "\n",
              "      <script>\n",
              "        const buttonEl =\n",
              "          document.querySelector('#df-a93e28be-df51-4c26-8b5e-bd14afde96dd button.colab-df-convert');\n",
              "        buttonEl.style.display =\n",
              "          google.colab.kernel.accessAllowed ? 'block' : 'none';\n",
              "\n",
              "        async function convertToInteractive(key) {\n",
              "          const element = document.querySelector('#df-a93e28be-df51-4c26-8b5e-bd14afde96dd');\n",
              "          const dataTable =\n",
              "            await google.colab.kernel.invokeFunction('convertToInteractive',\n",
              "                                                     [key], {});\n",
              "          if (!dataTable) return;\n",
              "\n",
              "          const docLinkHtml = 'Like what you see? Visit the ' +\n",
              "            '<a target=\"_blank\" href=https://colab.research.google.com/notebooks/data_table.ipynb>data table notebook</a>'\n",
              "            + ' to learn more about interactive tables.';\n",
              "          element.innerHTML = '';\n",
              "          dataTable['output_type'] = 'display_data';\n",
              "          await google.colab.output.renderOutput(dataTable, element);\n",
              "          const docLink = document.createElement('div');\n",
              "          docLink.innerHTML = docLinkHtml;\n",
              "          element.appendChild(docLink);\n",
              "        }\n",
              "      </script>\n",
              "    </div>\n",
              "  </div>\n",
              "  "
            ]
          },
          "metadata": {},
          "execution_count": 26
        }
      ],
      "source": [
        "data = pd.read_csv('/content/data (1).csv')\n",
        "data"
      ]
    },
    {
      "cell_type": "code",
      "execution_count": null,
      "id": "74893224",
      "metadata": {
        "id": "74893224"
      },
      "outputs": [],
      "source": [
        "EEG_values = data.values[:,1:-1]"
      ]
    },
    {
      "cell_type": "code",
      "execution_count": null,
      "id": "9c792c3c",
      "metadata": {
        "id": "9c792c3c",
        "colab": {
          "base_uri": "https://localhost:8080/"
        },
        "outputId": "e3ef9f0f-2d50-46d1-b537-0e5f7fd2a5a1"
      },
      "outputs": [
        {
          "output_type": "execute_result",
          "data": {
            "text/plain": [
              "array([[135, 190, 229, ..., -116, -83, -51],\n",
              "       [386, 382, 356, ..., 154, 143, 129],\n",
              "       [-32, -39, -47, ..., -35, -35, -36],\n",
              "       ...,\n",
              "       [14, 6, -13, ..., -2, -1, -8],\n",
              "       [-40, -25, -9, ..., 68, 59, 55],\n",
              "       [29, 41, 57, ..., -2, 2, 20]], dtype=object)"
            ]
          },
          "metadata": {},
          "execution_count": 28
        }
      ],
      "source": [
        "EEG_values"
      ]
    },
    {
      "cell_type": "code",
      "source": [
        "plt.figure(figsize=(12,8))\n",
        "plt.plot(EEG_values[0,:],label='0')\n",
        "plt.plot(EEG_values[1,:],label='1')\n",
        "plt.plot(EEG_values[2,:],label='2')\n",
        "plt.plot(EEG_values[3,:],label='3')\n",
        "plt.plot(EEG_values[11496,:],label='4')\n",
        "plt.legend()\n",
        "plt.show()"
      ],
      "metadata": {
        "colab": {
          "base_uri": "https://localhost:8080/",
          "height": 483
        },
        "id": "UQd8rCljIugk",
        "outputId": "2dbfaf21-8cf8-449c-bdfc-801d931052c0"
      },
      "id": "UQd8rCljIugk",
      "execution_count": null,
      "outputs": [
        {
          "output_type": "display_data",
          "data": {
            "text/plain": [
              "<Figure size 864x576 with 1 Axes>"
            ],
            "image/png": "[encoded data removed]"
          },
          "metadata": {
            "needs_background": "light"
          }
        }
      ]
    },
    {
      "cell_type": "code",
      "execution_count": null,
      "id": "fc9d788c",
      "metadata": {
        "id": "fc9d788c"
      },
      "outputs": [],
      "source": [
        "Target_values = np.array(data['y'])"
      ]
    },
    {
      "cell_type": "code",
      "execution_count": null,
      "id": "d668fb3b",
      "metadata": {
        "id": "d668fb3b",
        "colab": {
          "base_uri": "https://localhost:8080/"
        },
        "outputId": "4f494362-8690-407e-d700-f7399e359208"
      },
      "outputs": [
        {
          "output_type": "execute_result",
          "data": {
            "text/plain": [
              "array([0, 1, 0, ..., 0, 0, 0])"
            ]
          },
          "metadata": {},
          "execution_count": 31
        }
      ],
      "source": [
        "for i in range(len(Target_values)):\n",
        "    if Target_values[i] !=1:\n",
        "        Target_values[i]=0\n",
        "Target_values        "
      ]
    },
    {
      "cell_type": "code",
      "execution_count": null,
      "id": "b5dff01e",
      "metadata": {
        "id": "b5dff01e",
        "colab": {
          "base_uri": "https://localhost:8080/"
        },
        "outputId": "84f5d72a-4ac6-4021-ecc4-7ef3e1eb76e7"
      },
      "outputs": [
        {
          "output_type": "execute_result",
          "data": {
            "text/plain": [
              "Counter({0: 9200, 1: 2300})"
            ]
          },
          "metadata": {},
          "execution_count": 32
        }
      ],
      "source": [
        "Counter(Target_values)"
      ]
    },
    {
      "cell_type": "code",
      "execution_count": null,
      "id": "693cb74e",
      "metadata": {
        "id": "693cb74e"
      },
      "outputs": [],
      "source": [
        "train_ratio = 0.75\n",
        "validation_ratio = 0.15\n",
        "test_ratio = 0.10\n",
        "\n",
        "# train is now 75% of the entire data set\n",
        "# the _junk suffix means that we drop that variable completely\n",
        "x_train, x_test, y_train, y_test = train_test_split(EEG_values, Target_values, test_size=1 - train_ratio,random_state=0)\n",
        "\n",
        "# test is now 10% of the initial data set\n",
        "# validation is now 15% of the initial data set\n",
        "x_val, x_test, y_val, y_test = train_test_split(x_test, y_test, test_size=test_ratio/(test_ratio + validation_ratio),random_state=0) \n"
      ]
    },
    {
      "cell_type": "code",
      "source": [
        "# creating the dataset\n",
        "data = {'0':Counter(y_train)[0], '1':Counter(y_train)[1]}\n",
        "xaxis = list(data.keys())\n",
        "yaxis = list(data.values())\n",
        "\n",
        "fig = plt.figure(figsize = (10, 5))\n",
        "\n",
        "# creating the bar plot\n",
        "plt.bar(xaxis, yaxis, color ='pink',\n",
        "\t\twidth = 0.4)\n",
        "\n",
        "plt.ylabel(\"Count\")\n",
        "plt.show()"
      ],
      "metadata": {
        "id": "KmUelrzgMa7t",
        "colab": {
          "base_uri": "https://localhost:8080/",
          "height": 320
        },
        "outputId": "b431d905-3768-4444-f455-338a2e174c2c"
      },
      "id": "KmUelrzgMa7t",
      "execution_count": null,
      "outputs": [
        {
          "output_type": "display_data",
          "data": {
            "text/plain": [
              "<Figure size 720x360 with 1 Axes>"
            ],
            "image/png": "[encoded data removed]"
          },
          "metadata": {
            "needs_background": "light"
          }
        }
      ]
    },
    {
      "cell_type": "code",
      "execution_count": null,
      "id": "6c0faf8c",
      "metadata": {
        "id": "6c0faf8c"
      },
      "outputs": [],
      "source": [
        "#To handle data imbalance\n",
        "# SMOTE - Synthetic Minority Over-sampling\n",
        "sm = sm(random_state=2)\n",
        "X_train_res, y_train_res = sm.fit_resample(x_train, y_train)"
      ]
    },
    {
      "cell_type": "code",
      "source": [
        "# creating the dataset\n",
        "data = {'0':Counter(y_train_res)[0], '1':Counter(y_train_res)[1]}\n",
        "xaxis = list(data.keys())\n",
        "yaxis = list(data.values())\n",
        "\n",
        "fig = plt.figure(figsize = (10, 5))\n",
        "\n",
        "# creating the bar plot\n",
        "plt.bar(xaxis, yaxis, color ='pink',\n",
        "\t\twidth = 0.4)\n",
        "\n",
        "plt.ylabel(\"Count\")\n",
        "plt.show()"
      ],
      "metadata": {
        "id": "aRuDRp1jKtkN",
        "colab": {
          "base_uri": "https://localhost:8080/",
          "height": 320
        },
        "outputId": "e8fbae11-4c61-493f-9388-061639955eb8"
      },
      "id": "aRuDRp1jKtkN",
      "execution_count": null,
      "outputs": [
        {
          "output_type": "display_data",
          "data": {
            "text/plain": [
              "<Figure size 720x360 with 1 Axes>"
            ],
            "image/png": "[encoded data removed]"
          },
          "metadata": {
            "needs_background": "light"
          }
        }
      ]
    },
    {
      "cell_type": "markdown",
      "id": "31ec2103",
      "metadata": {
        "id": "31ec2103"
      },
      "source": [
        "#**Training**"
      ]
    },
    {
      "cell_type": "code",
      "execution_count": null,
      "id": "aab65f3a",
      "metadata": {
        "id": "aab65f3a",
        "colab": {
          "base_uri": "https://localhost:8080/"
        },
        "outputId": "b257a2e9-5d60-46f0-af43-853c5692c557"
      },
      "outputs": [
        {
          "output_type": "stream",
          "name": "stdout",
          "text": [
            "score on train: 0.649753193960511\n",
            "score on validation: 0.6707246376811594\n",
            "score on test: 0.6939130434782609\n"
          ]
        }
      ],
      "source": [
        "#Logistic Regression\n",
        "lr=LogisticRegression(max_iter=8000)\n",
        "lr.fit(X_train_res, y_train_res)\n",
        "\n",
        "print(\"score on train: \"+ str(lr.score(X_train_res, y_train_res)))\n",
        "print(\"score on validation: \" + str(lr.score(x_val, y_val)))\n",
        "print(\"score on test: \" + str(lr.score(x_test, y_test)))"
      ]
    },
    {
      "cell_type": "code",
      "execution_count": null,
      "id": "81415cfa",
      "metadata": {
        "id": "81415cfa",
        "colab": {
          "base_uri": "https://localhost:8080/"
        },
        "outputId": "9ec63414-9022-4b1b-a750-f14388af2428"
      },
      "outputs": [
        {
          "output_type": "stream",
          "name": "stdout",
          "text": [
            "score on train: 0.9957897793263647\n",
            "score on validation: 0.9605797101449275\n",
            "score on test: 0.9556521739130435\n"
          ]
        }
      ],
      "source": [
        "#KNeighborsClassifier\n",
        "knn = KNeighborsClassifier(algorithm = 'brute', n_jobs=-1)\n",
        "knn.fit(X_train_res, y_train_res)\n",
        "\n",
        "print(\"score on train: \"+ str(knn.score(X_train_res, y_train_res)))\n",
        "print(\"score on validation: \" + str(knn.score(x_val, y_val)))\n",
        "print(\"score on test: \" + str(knn.score(x_test, y_test)))"
      ]
    },
    {
      "cell_type": "code",
      "execution_count": null,
      "id": "7aa93cb8",
      "metadata": {
        "id": "7aa93cb8",
        "colab": {
          "base_uri": "https://localhost:8080/"
        },
        "outputId": "5916cbd4-1648-4c03-d7e5-969d3edd0868"
      },
      "outputs": [
        {
          "output_type": "stream",
          "name": "stdout",
          "text": [
            "score on train: 1.0\n",
            "score on validation: 0.9107246376811594\n",
            "score on test: 0.908695652173913\n"
          ]
        }
      ],
      "source": [
        "#Decision Tree Classifier\n",
        "clf = DecisionTreeClassifier()\n",
        "clf.fit(X_train_res, y_train_res)\n",
        "\n",
        "print(\"score on train: \" + str(clf.score(X_train_res, y_train_res)))\n",
        "print(\"score on validation: \" + str(clf.score(x_val, y_val)))\n",
        "print(\"score on test: \"  + str(clf.score(x_test, y_test)))"
      ]
    },
    {
      "cell_type": "code",
      "execution_count": null,
      "id": "7bd296cb",
      "metadata": {
        "id": "7bd296cb",
        "colab": {
          "base_uri": "https://localhost:8080/"
        },
        "outputId": "a1879c06-264d-48ed-8628-4bb1761195f3"
      },
      "outputs": [
        {
          "output_type": "stream",
          "name": "stdout",
          "text": [
            "score on train: 0.9909262485481998\n",
            "score on validation: 0.9588405797101449\n",
            "score on test: 0.9608695652173913\n"
          ]
        }
      ],
      "source": [
        "#Decision Tree Classifier with Bagging Classifier\n",
        "bg=BaggingClassifier(DecisionTreeClassifier(),max_samples=0.5,max_features=1.0,n_estimators=10)\n",
        "bg.fit(X_train_res, y_train_res)\n",
        "\n",
        "print(\"score on train: \"+ str(bg.score(X_train_res, y_train_res)))\n",
        "print(\"score on validation: \" + str(bg.score(x_val, y_val)))\n",
        "print(\"score on test: \" + str(bg.score(x_test, y_test)))"
      ]
    },
    {
      "cell_type": "code",
      "execution_count": null,
      "id": "a87def3b",
      "metadata": {
        "id": "a87def3b",
        "colab": {
          "base_uri": "https://localhost:8080/"
        },
        "outputId": "a1aa143f-2c4e-42bc-d645-2bfca3954385"
      },
      "outputs": [
        {
          "output_type": "stream",
          "name": "stdout",
          "text": [
            "score on train: 0.9958623693379791\n",
            "score on validation: 0.9559420289855073\n",
            "score on test: 0.9530434782608695\n"
          ]
        }
      ],
      "source": [
        "#Decision Tree Classifier with AdaBoostClassifier\n",
        "\n",
        "adb = AdaBoostClassifier(DecisionTreeClassifier(min_samples_split=10,max_depth=6),n_estimators=10,learning_rate=0.6)\n",
        "adb.fit(X_train_res, y_train_res)\n",
        "\n",
        "print(\"score on train: \"+ str(adb.score(X_train_res, y_train_res)))\n",
        "print(\"score on validation: \" + str(adb.score(x_val, y_val)))\n",
        "print(\"score on test: \" + str(adb.score(x_test, y_test)))\n"
      ]
    },
    {
      "cell_type": "code",
      "execution_count": null,
      "id": "055b9335",
      "metadata": {
        "id": "055b9335",
        "colab": {
          "base_uri": "https://localhost:8080/"
        },
        "outputId": "717d7683-81e3-49ee-e2ea-b4ed5e7a16d1"
      },
      "outputs": [
        {
          "output_type": "stream",
          "name": "stdout",
          "text": [
            "score on train: 0.9753919860627178\n",
            "score on validation: 0.967536231884058\n",
            "score on test: 0.9765217391304348\n"
          ]
        }
      ],
      "source": [
        "#Random Forest Classifier\n",
        "\n",
        "# n_estimators = number of decision trees\n",
        "rf = RandomForestClassifier(n_estimators=80, max_depth=9)\n",
        "rf.fit(X_train_res, y_train_res)\n",
        "\n",
        "print(\"score on train: \"+ str(rf.score(X_train_res, y_train_res)))\n",
        "print(\"score on validation: \" + str(rf.score(x_val, y_val)))\n",
        "print(\"score on test: \" + str(rf.score(x_test, y_test)))\n"
      ]
    },
    {
      "cell_type": "code",
      "source": [
        "y_predicted = rf.predict(x_test)"
      ],
      "metadata": {
        "id": "ma2gABGz4Ojs"
      },
      "id": "ma2gABGz4Ojs",
      "execution_count": null,
      "outputs": []
    },
    {
      "cell_type": "markdown",
      "source": [
        "# **Calculating performance statistics for Random Forest Classifier (Best performing model)**"
      ],
      "metadata": {
        "id": "8YVPU5cj-jVV"
      },
      "id": "8YVPU5cj-jVV"
    },
    {
      "cell_type": "code",
      "source": [
        "matrix = confusion_matrix(y_test, y_predicted)\n",
        "df_confusion = pd.DataFrame(matrix, index=['Non-Epileptic','Epileptic'],columns=['Non-Epileptic','Epileptic'])\n",
        "\n",
        "df_confusion"
      ],
      "metadata": {
        "id": "AMKmeMJj3_aZ",
        "colab": {
          "base_uri": "https://localhost:8080/",
          "height": 112
        },
        "outputId": "9da2ccb8-5fdd-49ec-e8d0-a8e797a63fc8"
      },
      "id": "AMKmeMJj3_aZ",
      "execution_count": null,
      "outputs": [
        {
          "output_type": "execute_result",
          "data": {
            "text/plain": [
              "               Non-Epileptic  Epileptic\n",
              "Non-Epileptic            900         17\n",
              "Epileptic                 10        223"
            ],
            "text/html": [
              "\n",
              "  <div id=\"df-93d14c34-4da0-4267-9798-730e54df4db9\">\n",
              "    <div class=\"colab-df-container\">\n",
              "      <div>\n",
              "<style scoped>\n",
              "    .dataframe tbody tr th:only-of-type {\n",
              "        vertical-align: middle;\n",
              "    }\n",
              "\n",
              "    .dataframe tbody tr th {\n",
              "        vertical-align: top;\n",
              "    }\n",
              "\n",
              "    .dataframe thead th {\n",
              "        text-align: right;\n",
              "    }\n",
              "</style>\n",
              "<table border=\"1\" class=\"dataframe\">\n",
              "  <thead>\n",
              "    <tr style=\"text-align: right;\">\n",
              "      <th></th>\n",
              "      <th>Non-Epileptic</th>\n",
              "      <th>Epileptic</th>\n",
              "    </tr>\n",
              "  </thead>\n",
              "  <tbody>\n",
              "    <tr>\n",
              "      <th>Non-Epileptic</th>\n",
              "      <td>900</td>\n",
              "      <td>17</td>\n",
              "    </tr>\n",
              "    <tr>\n",
              "      <th>Epileptic</th>\n",
              "      <td>10</td>\n",
              "      <td>223</td>\n",
              "    </tr>\n",
              "  </tbody>\n",
              "</table>\n",
              "</div>\n",
              "      <button class=\"colab-df-convert\" onclick=\"convertToInteractive('df-93d14c34-4da0-4267-9798-730e54df4db9')\"\n",
              "              title=\"Convert this dataframe to an interactive table.\"\n",
              "              style=\"display:none;\">\n",
              "        \n",
              "  <svg xmlns=\"http://www.w3.org/2000/svg\" height=\"24px\"viewBox=\"0 0 24 24\"\n",
              "       width=\"24px\">\n",
              "    <path d=\"M0 0h24v24H0V0z\" fill=\"none\"/>\n",
              "    <path d=\"M18.56 5.44l.94 2.06.94-2.06 2.06-.94-2.06-.94-.94-2.06-.94 2.06-2.06.94zm-11 1L8.5 8.5l.94-2.06 2.06-.94-2.06-.94L8.5 2.5l-.94 2.06-2.06.94zm10 10l.94 2.06.94-2.06 2.06-.94-2.06-.94-.94-2.06-.94 2.06-2.06.94z\"/><path d=\"M17.41 7.96l-1.37-1.37c-.4-.4-.92-.59-1.43-.59-.52 0-1.04.2-1.43.59L10.3 9.45l-7.72 7.72c-.78.78-.78 2.05 0 2.83L4 21.41c.39.39.9.59 1.41.59.51 0 1.02-.2 1.41-.59l7.78-7.78 2.81-2.81c.8-.78.8-2.07 0-2.86zM5.41 20L4 18.59l7.72-7.72 1.47 1.35L5.41 20z\"/>\n",
              "  </svg>\n",
              "      </button>\n",
              "      \n",
              "  <style>\n",
              "    .colab-df-container {\n",
              "      display:flex;\n",
              "      flex-wrap:wrap;\n",
              "      gap: 12px;\n",
              "    }\n",
              "\n",
              "    .colab-df-convert {\n",
              "      background-color: #E8F0FE;\n",
              "      border: none;\n",
              "      border-radius: 50%;\n",
              "      cursor: pointer;\n",
              "      display: none;\n",
              "      fill: #1967D2;\n",
              "      height: 32px;\n",
              "      padding: 0 0 0 0;\n",
              "      width: 32px;\n",
              "    }\n",
              "\n",
              "    .colab-df-convert:hover {\n",
              "      background-color: #E2EBFA;\n",
              "      box-shadow: 0px 1px 2px rgba(60, 64, 67, 0.3), 0px 1px 3px 1px rgba(60, 64, 67, 0.15);\n",
              "      fill: #174EA6;\n",
              "    }\n",
              "\n",
              "    [theme=dark] .colab-df-convert {\n",
              "      background-color: #3B4455;\n",
              "      fill: #D2E3FC;\n",
              "    }\n",
              "\n",
              "    [theme=dark] .colab-df-convert:hover {\n",
              "      background-color: #434B5C;\n",
              "      box-shadow: 0px 1px 3px 1px rgba(0, 0, 0, 0.15);\n",
              "      filter: drop-shadow(0px 1px 2px rgba(0, 0, 0, 0.3));\n",
              "      fill: #FFFFFF;\n",
              "    }\n",
              "  </style>\n",
              "\n",
              "      <script>\n",
              "        const buttonEl =\n",
              "          document.querySelector('#df-93d14c34-4da0-4267-9798-730e54df4db9 button.colab-df-convert');\n",
              "        buttonEl.style.display =\n",
              "          google.colab.kernel.accessAllowed ? 'block' : 'none';\n",
              "\n",
              "        async function convertToInteractive(key) {\n",
              "          const element = document.querySelector('#df-93d14c34-4da0-4267-9798-730e54df4db9');\n",
              "          const dataTable =\n",
              "            await google.colab.kernel.invokeFunction('convertToInteractive',\n",
              "                                                     [key], {});\n",
              "          if (!dataTable) return;\n",
              "\n",
              "          const docLinkHtml = 'Like what you see? Visit the ' +\n",
              "            '<a target=\"_blank\" href=https://colab.research.google.com/notebooks/data_table.ipynb>data table notebook</a>'\n",
              "            + ' to learn more about interactive tables.';\n",
              "          element.innerHTML = '';\n",
              "          dataTable['output_type'] = 'display_data';\n",
              "          await google.colab.output.renderOutput(dataTable, element);\n",
              "          const docLink = document.createElement('div');\n",
              "          docLink.innerHTML = docLinkHtml;\n",
              "          element.appendChild(docLink);\n",
              "        }\n",
              "      </script>\n",
              "    </div>\n",
              "  </div>\n",
              "  "
            ]
          },
          "metadata": {},
          "execution_count": 43
        }
      ]
    },
    {
      "cell_type": "code",
      "source": [
        "colormap = sns.color_palette(\"BrBG\", 10)\n",
        "sns.heatmap(df_confusion, annot=True, cbar=None, cmap=colormap)\n",
        "plt.title(\"Confusion Matrix\")\n",
        "plt.tight_layout()\n",
        "plt.ylabel(\"True Class\")\n",
        "plt.xlabel(\"Predicted Class\")\n",
        "plt.show()"
      ],
      "metadata": {
        "id": "Gcf9J3xp6EFb",
        "colab": {
          "base_uri": "https://localhost:8080/",
          "height": 311
        },
        "outputId": "63e1f9e2-4030-45f6-95ae-ad9e05b34c0e"
      },
      "id": "Gcf9J3xp6EFb",
      "execution_count": null,
      "outputs": [
        {
          "output_type": "display_data",
          "data": {
            "text/plain": [
              "<Figure size 432x288 with 1 Axes>"
            ],
            "image/png": "[encoded data removed]"
          },
          "metadata": {
            "needs_background": "light"
          }
        }
      ]
    },
    {
      "cell_type": "code",
      "source": [
        "TN, FP, FN, TP = confusion_matrix(y_test, y_predicted).ravel()\n",
        "\n",
        "print(f\"True Negative (TN) : {TN}\")\n",
        "print(f\"False Positive (FP): {FP}\")\n",
        "print(f\"False Negative (FN): {FN}\")\n",
        "print(f\"True Positive (TP) : {TP}\")"
      ],
      "metadata": {
        "id": "kiTVFaef6D-B",
        "colab": {
          "base_uri": "https://localhost:8080/"
        },
        "outputId": "87810690-f0ac-4f4c-8ae9-87eebfeb8852"
      },
      "id": "kiTVFaef6D-B",
      "execution_count": null,
      "outputs": [
        {
          "output_type": "stream",
          "name": "stdout",
          "text": [
            "True Negative (TN) : 900\n",
            "False Positive (FP): 17\n",
            "False Negative (FN): 10\n",
            "True Positive (TP) : 223\n"
          ]
        }
      ]
    },
    {
      "cell_type": "markdown",
      "source": [
        "## Sensitivity"
      ],
      "metadata": {
        "id": "E0oRLFNd-oQV"
      },
      "id": "E0oRLFNd-oQV"
    },
    {
      "cell_type": "code",
      "source": [
        "# Sensitivity, hit rate, recall, or true positive rate\n",
        "Sensitivity  = float(TP)/(TP+FN)*100\n",
        "print(f\"Sensitivity or TPR: {Sensitivity}%\")  \n",
        "print(f\"There is a {Sensitivity}% chance of detecting patients going through epiletic seizure.\")"
      ],
      "metadata": {
        "id": "F2r4JEap60RV",
        "colab": {
          "base_uri": "https://localhost:8080/"
        },
        "outputId": "232e5b2c-9506-4487-944c-a21fbdabd219"
      },
      "id": "F2r4JEap60RV",
      "execution_count": null,
      "outputs": [
        {
          "output_type": "stream",
          "name": "stdout",
          "text": [
            "Sensitivity or TPR: 95.70815450643777%\n",
            "There is a 95.70815450643777% chance of detecting patients going through epiletic seizure.\n"
          ]
        }
      ]
    },
    {
      "cell_type": "markdown",
      "source": [
        "###Specificity"
      ],
      "metadata": {
        "id": "NCmkPavn-sBp"
      },
      "id": "NCmkPavn-sBp"
    },
    {
      "cell_type": "code",
      "source": [
        "# Specificity or true negative rate\n",
        "Specificity  = float(TN)/(TN+FP)*100\n",
        "print(f\"Specificity or TNR: {Specificity}%\") \n",
        "print(f\"There is a {Specificity}% chance of detecting normal patients are normal.\")"
      ],
      "metadata": {
        "id": "WaAhzOm--2_k",
        "colab": {
          "base_uri": "https://localhost:8080/"
        },
        "outputId": "d92e8921-3268-461c-ee22-062e56d092dc"
      },
      "id": "WaAhzOm--2_k",
      "execution_count": null,
      "outputs": [
        {
          "output_type": "stream",
          "name": "stdout",
          "text": [
            "Specificity or TNR: 98.14612868047983%\n",
            "There is a 98.14612868047983% chance of detecting normal patients are normal.\n"
          ]
        }
      ]
    },
    {
      "cell_type": "markdown",
      "source": [
        "###Positive and negative predictive values"
      ],
      "metadata": {
        "id": "_1jzBcrD-z1z"
      },
      "id": "_1jzBcrD-z1z"
    },
    {
      "cell_type": "code",
      "source": [
        "# Precision or positive predictive value\n",
        "Precision = float(TP)/(TP+FP)*100\n",
        "print(f\"Precision: {Precision}%\")  "
      ],
      "metadata": {
        "id": "mBhz-PsQ7qoK",
        "colab": {
          "base_uri": "https://localhost:8080/"
        },
        "outputId": "7679bcda-7226-4e2b-a942-6d3891b07b58"
      },
      "id": "mBhz-PsQ7qoK",
      "execution_count": null,
      "outputs": [
        {
          "output_type": "stream",
          "name": "stdout",
          "text": [
            "Precision: 92.91666666666667%\n"
          ]
        }
      ]
    },
    {
      "cell_type": "code",
      "source": [
        "# Negative predictive value\n",
        "NPV = float(TN)/(TN+FN)*100\n",
        "print(f\"Negative Predictive Value: {NPV}%\") "
      ],
      "metadata": {
        "id": "cWtD8w8k8IJT",
        "colab": {
          "base_uri": "https://localhost:8080/"
        },
        "outputId": "8516aaf1-48f7-444f-adbc-0000b0ba2584"
      },
      "id": "cWtD8w8k8IJT",
      "execution_count": null,
      "outputs": [
        {
          "output_type": "stream",
          "name": "stdout",
          "text": [
            "Negative Predictive Value: 98.9010989010989%\n"
          ]
        }
      ]
    },
    {
      "cell_type": "markdown",
      "source": [
        "### False positive rate\n"
      ],
      "metadata": {
        "id": "LofMj_1H_B7Q"
      },
      "id": "LofMj_1H_B7Q"
    },
    {
      "cell_type": "code",
      "source": [
        "# Fall out or false positive rate\n",
        "FPR = float(FP)/(FP+TN)*100\n",
        "print( f\"False Positive Rate: {FPR}%\") \n",
        "print( f\"There is a {FPR}% chance that this positive result is incorrect.\")"
      ],
      "metadata": {
        "id": "M1--mPbB-9RT",
        "colab": {
          "base_uri": "https://localhost:8080/"
        },
        "outputId": "260be329-c2cb-46e8-c89e-dfe441528ae5"
      },
      "id": "M1--mPbB-9RT",
      "execution_count": null,
      "outputs": [
        {
          "output_type": "stream",
          "name": "stdout",
          "text": [
            "False Positive Rate: 1.8538713195201746%\n",
            "There is a 1.8538713195201746% chance that this positive result is incorrect.\n"
          ]
        }
      ]
    },
    {
      "cell_type": "markdown",
      "source": [
        "### False negative rate"
      ],
      "metadata": {
        "id": "l2aPyx6G_Ia1"
      },
      "id": "l2aPyx6G_Ia1"
    },
    {
      "cell_type": "code",
      "source": [
        "# False negative rate\n",
        "FNR = float(FN)/(TP+FN)*100\n",
        "print(f\"False Negative Rate: {FNR}%\") \n",
        "print(f\"There is a {FNR}% chance that this negative result is incorrect.\")"
      ],
      "metadata": {
        "id": "AeUmU7Ev_FbO",
        "colab": {
          "base_uri": "https://localhost:8080/"
        },
        "outputId": "09bcf236-735c-4277-f995-b049b9c16785"
      },
      "id": "AeUmU7Ev_FbO",
      "execution_count": null,
      "outputs": [
        {
          "output_type": "stream",
          "name": "stdout",
          "text": [
            "False Negative Rate: 4.291845493562231%\n",
            "There is a 4.291845493562231% chance that this negative result is incorrect.\n"
          ]
        }
      ]
    },
    {
      "cell_type": "markdown",
      "source": [
        "### False discovery rate"
      ],
      "metadata": {
        "id": "Gg44BSbt_PyI"
      },
      "id": "Gg44BSbt_PyI"
    },
    {
      "cell_type": "code",
      "source": [
        "# False discovery rate\n",
        "FDR = float(FP)/(TP+FP)*100\n",
        "print(f\"False Discovery Rate: {FDR}%\" )"
      ],
      "metadata": {
        "id": "y1NrwrPd_MOt",
        "colab": {
          "base_uri": "https://localhost:8080/"
        },
        "outputId": "80986c05-5532-49ad-f0cb-e3a8b8dfd7c3"
      },
      "id": "y1NrwrPd_MOt",
      "execution_count": null,
      "outputs": [
        {
          "output_type": "stream",
          "name": "stdout",
          "text": [
            "False Discovery Rate: 7.083333333333333%\n"
          ]
        }
      ]
    },
    {
      "cell_type": "markdown",
      "source": [
        "## **Overall accuracy**\n"
      ],
      "metadata": {
        "id": "8Lvi7GHu_c65"
      },
      "id": "8Lvi7GHu_c65"
    },
    {
      "cell_type": "code",
      "source": [
        "# Overall accuracy\n",
        "ACC = float(TP+TN)/(TP+FP+FN+TN)*100\n",
        "print(f\"Accuracy: {ACC}%\") "
      ],
      "metadata": {
        "id": "cqkNAEo9_V-X",
        "colab": {
          "base_uri": "https://localhost:8080/"
        },
        "outputId": "6f708ded-b518-408d-b59e-b7fba1243eee"
      },
      "id": "cqkNAEo9_V-X",
      "execution_count": null,
      "outputs": [
        {
          "output_type": "stream",
          "name": "stdout",
          "text": [
            "Accuracy: 97.65217391304348%\n"
          ]
        }
      ]
    },
    {
      "cell_type": "code",
      "source": [
        "print(f\"Sensitivity or TPR: {Sensitivity}%\")    \n",
        "print(f\"Specificity or TNR: {Specificity}%\") \n",
        "print(f\"Precision: {Precision}%\")   \n",
        "print(f\"Negative Predictive Value: {NPV}%\")  \n",
        "print( f\"False Positive Rate: {FPR}%\") \n",
        "print(f\"False Negative Rate: {FNR}%\")  \n",
        "print(f\"False Discovery Rate: {FDR}%\" )\n",
        "print(f\"Accuracy: {ACC}%\") "
      ],
      "metadata": {
        "id": "c7WdMNAm_gaH",
        "colab": {
          "base_uri": "https://localhost:8080/"
        },
        "outputId": "8b22c85d-6eec-4afc-a6ed-2393828a5127"
      },
      "id": "c7WdMNAm_gaH",
      "execution_count": null,
      "outputs": [
        {
          "output_type": "stream",
          "name": "stdout",
          "text": [
            "Sensitivity or TPR: 95.70815450643777%\n",
            "Specificity or TNR: 98.14612868047983%\n",
            "Precision: 92.91666666666667%\n",
            "Negative Predictive Value: 98.9010989010989%\n",
            "False Positive Rate: 1.8538713195201746%\n",
            "False Negative Rate: 4.291845493562231%\n",
            "False Discovery Rate: 7.083333333333333%\n",
            "Accuracy: 97.65217391304348%\n"
          ]
        }
      ]
    },
    {
      "cell_type": "markdown",
      "source": [
        "\n",
        "##**Calculating the AUC-ROC Curve**"
      ],
      "metadata": {
        "id": "Tl53dm_d_m0L"
      },
      "id": "Tl53dm_d_m0L"
    },
    {
      "cell_type": "code",
      "source": [
        "print(\"Validation AUC\", roc_auc_score(y_test, y_predicted) )"
      ],
      "metadata": {
        "id": "niTzTRkr_le9",
        "colab": {
          "base_uri": "https://localhost:8080/"
        },
        "outputId": "2380277c-4ba7-454a-8af3-390494860ccf"
      },
      "id": "niTzTRkr_le9",
      "execution_count": null,
      "outputs": [
        {
          "output_type": "stream",
          "name": "stdout",
          "text": [
            "Validation AUC 0.969271415934588\n"
          ]
        }
      ]
    },
    {
      "cell_type": "code",
      "source": [
        "fpr, tpr, thresholds = roc_curve(y_test, y_predicted)\n",
        "roc_auc = auc(fpr, tpr)\n",
        "\n",
        "plt.figure()\n",
        "plt.plot(fpr, tpr, label='ROC curve (area = %0.2f)' % (roc_auc))\n",
        "plt.plot([0, 1], [0, 1], 'k--')\n",
        "plt.xlim([0.0, 1.0])\n",
        "plt.ylim([0.0, 1.05])\n",
        "plt.xlabel('False Positive Rate')\n",
        "plt.ylabel('True Positive Rate')\n",
        "plt.title('Receiver operating characteristic')\n",
        "plt.legend(loc=\"lower right\")\n",
        " \n",
        "# create the axis of thresholds (scores)\n",
        "ax2 = plt.gca().twinx()\n",
        "ax2.plot(fpr, thresholds, markeredgecolor='r',linestyle='dashed', color='r')\n",
        "ax2.set_ylabel('Threshold',color='r')\n",
        "ax2.set_ylim([thresholds[-1],thresholds[0]])\n",
        "ax2.set_xlim([fpr[0],fpr[-1]])\n",
        "\n",
        "print(plt.figure())"
      ],
      "metadata": {
        "id": "xKnklLwBAawV",
        "colab": {
          "base_uri": "https://localhost:8080/",
          "height": 330
        },
        "outputId": "297f110c-6330-4e10-9996-f07b3c82a29e"
      },
      "id": "xKnklLwBAawV",
      "execution_count": null,
      "outputs": [
        {
          "output_type": "stream",
          "name": "stdout",
          "text": [
            "Figure(432x288)\n"
          ]
        },
        {
          "output_type": "display_data",
          "data": {
            "text/plain": [
              "<Figure size 432x288 with 2 Axes>"
            ],
            "image/png": "[encoded data removed]"
          },
          "metadata": {
            "needs_background": "light"
          }
        },
        {
          "output_type": "display_data",
          "data": {
            "text/plain": [
              "<Figure size 432x288 with 0 Axes>"
            ]
          },
          "metadata": {}
        }
      ]
    }
  ],
  "metadata": {
    "kernelspec": {
      "display_name": "conda_tensorflow2_p38",
      "language": "python",
      "name": "conda_tensorflow2_p38"
    },
    "language_info": {
      "codemirror_mode": {
        "name": "ipython",
        "version": 3
      },
      "file_extension": ".py",
      "mimetype": "text/x-python",
      "name": "python",
      "nbconvert_exporter": "python",
      "pygments_lexer": "ipython3",
      "version": "3.8.12"
    },
    "colab": {
      "provenance": [],
      "include_colab_link": true
    }
  },
  "nbformat": 4,
  "nbformat_minor": 5
}